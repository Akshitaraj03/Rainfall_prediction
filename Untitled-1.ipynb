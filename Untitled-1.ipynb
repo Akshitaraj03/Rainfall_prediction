{
 "cells": [
  {
   "cell_type": "markdown",
   "id": "1581f976",
   "metadata": {},
   "source": [
    "# Import Required Libraries\n",
    "\n",
    "Import the necessary libraries for data processing, model training, and saving the model as a `.pkl` file."
   ]
  },
  {
   "cell_type": "code",
   "execution_count": null,
   "id": "983e7d2b",
   "metadata": {},
   "outputs": [],
   "source": [
    "# Import Required Libraries\n",
    "import pandas as pd\n",
    "import numpy as np\n",
    "from sklearn.model_selection import train_test_split\n",
    "from sklearn.ensemble import RandomForestClassifier\n",
    "from sklearn.preprocessing import StandardScaler, Normalizer\n",
    "from sklearn.impute import SimpleImputer\n",
    "import pickle"
   ]
  },
  {
   "cell_type": "markdown",
   "id": "f6530d48",
   "metadata": {},
   "source": [
    "# Load the Dataset\n",
    "\n",
    "Load the rainfall dataset using pandas. Update the file path as needed for your environment."
   ]
  },
  {
   "cell_type": "code",
   "execution_count": null,
   "id": "e8def54c",
   "metadata": {},
   "outputs": [],
   "source": [
    "# Load the Dataset\n",
    "df = pd.read_csv('Rainfall.csv')\n",
    "df.head()"
   ]
  },
  {
   "cell_type": "markdown",
   "id": "10d3e859",
   "metadata": {},
   "source": [
    "# Preprocess the Data\n",
    "\n",
    "Handle missing values, encode categorical variables, drop unnecessary columns, and split the data into features and target."
   ]
  },
  {
   "cell_type": "code",
   "execution_count": null,
   "id": "6d850210",
   "metadata": {},
   "outputs": [],
   "source": [
    "# Drop unnecessary columns if present\n",
    "if 'day' in df.columns:\n",
    "    df = df.drop(columns=['day'])\n",
    "\n",
    "# Handle missing values for 'winddirection' and 'windspeed'\n",
    "if '         winddirection' in df.columns:\n",
    "    df['         winddirection'] = df['         winddirection'].fillna(df['         winddirection'].mode()[0])\n",
    "if 'windspeed' in df.columns:\n",
    "    df['windspeed'] = df['windspeed'].fillna(df['windspeed'].median())\n",
    "\n",
    "# Encode 'rainfall' column: yes->1, no->0\n",
    "if df['rainfall'].dtype == object:\n",
    "    df['rainfall'] = df['rainfall'].map({'yes': 1, 'no': 0})\n",
    "\n",
    "# Drop highly correlated columns if present\n",
    "for col in ['maxtemp', 'temparature', 'mintemp']:\n",
    "    if col in df.columns:\n",
    "        df = df.drop(columns=[col])\n",
    "\n",
    "# Split features and target\n",
    "X = df.drop(columns=['rainfall'])\n",
    "y = df['rainfall']\n",
    "\n",
    "# Standardize and normalize features\n",
    "scaler = StandardScaler()\n",
    "normalizer = Normalizer()\n",
    "imputer = SimpleImputer(strategy='mean')\n",
    "\n",
    "X_scaled = scaler.fit_transform(X)\n",
    "X_imputed = imputer.fit_transform(X_scaled)\n",
    "X_final = normalizer.fit_transform(X_imputed)"
   ]
  },
  {
   "cell_type": "code",
   "execution_count": null,
   "id": "5c324de7",
   "metadata": {},
   "outputs": [],
   "source": [
    "# Split the data into training and test sets\n",
    "X_train, X_test, y_train, y_test = train_test_split(X_final, y, test_size=0.2, random_state=42)"
   ]
  },
  {
   "cell_type": "markdown",
   "id": "91732bca",
   "metadata": {},
   "source": [
    "# Train the Random Forest Model\n",
    "\n",
    "Train a RandomForestClassifier on the preprocessed data."
   ]
  },
  {
   "cell_type": "code",
   "execution_count": null,
   "id": "dbff105f",
   "metadata": {},
   "outputs": [],
   "source": [
    "# Train the Random Forest Model\n",
    "rf = RandomForestClassifier(random_state=42)\n",
    "rf.fit(X_train, y_train)"
   ]
  },
  {
   "cell_type": "markdown",
   "id": "ac7bc008",
   "metadata": {},
   "source": [
    "# Save the Model as a .pkl File\n",
    "\n",
    "Serialize the trained model and feature columns using pickle and save as a `.pkl` file."
   ]
  },
  {
   "cell_type": "code",
   "execution_count": null,
   "id": "2e93cc9e",
   "metadata": {},
   "outputs": [],
   "source": [
    "# Save the model and feature columns as a .pkl file\n",
    "model_data = {\n",
    "    \"model\": rf,\n",
    "    \"columns\": list(X.columns)\n",
    "}\n",
    "with open(\"rainfall_model.pkl\", \"wb\") as f:\n",
    "    pickle.dump(model_data, f)"
   ]
  },
  {
   "cell_type": "markdown",
   "id": "05102432",
   "metadata": {},
   "source": [
    "The trained rainfall prediction model has been saved as `rainfall_model.pkl` and is ready for use."
   ]
  }
 ],
 "metadata": {
  "language_info": {
   "name": "python"
  }
 },
 "nbformat": 4,
 "nbformat_minor": 5
}
